{
 "cells": [
  {
   "cell_type": "code",
   "execution_count": null,
   "id": "23bae35f",
   "metadata": {
    "pycharm": {
     "is_executing": true
    }
   },
   "outputs": [],
   "source": [
    "import pandas as pd"
   ]
  },
  {
   "cell_type": "code",
   "execution_count": null,
   "id": "3dbea018",
   "metadata": {
    "pycharm": {
     "is_executing": true
    }
   },
   "outputs": [],
   "source": [
    "#p1\n",
    "df = pd.read_csv(\"ASTR19_S22_group_project_data.txt\",sep='\\s+',skiprows=3,header=None)\n",
    "df.head()"
   ]
  },
  {
   "cell_type": "code",
   "execution_count": null,
   "id": "faf6962d",
   "metadata": {
    "pycharm": {
     "is_executing": true
    }
   },
   "outputs": [],
   "source": [
    "df.columns = ['date_index','time','tide']\n",
    "df.head()"
   ]
  },
  {
   "cell_type": "code",
   "execution_count": null,
   "id": "51ef3d7e",
   "metadata": {
    "pycharm": {
     "is_executing": true
    }
   },
   "outputs": [],
   "source": [
    "# moring_df=df.drop_duplicates(subset=['date_index'],keep='first')\n",
    "# moring_df = moring_df.reset_index()\n",
    "# moring_df.head()"
   ]
  },
  {
   "cell_type": "code",
   "execution_count": null,
   "id": "f31e9e66",
   "metadata": {
    "pycharm": {
     "is_executing": true
    }
   },
   "outputs": [],
   "source": [
    "#moring_df.shape"
   ]
  },
  {
   "cell_type": "code",
   "execution_count": null,
   "id": "ccc4c1e2",
   "metadata": {
    "pycharm": {
     "is_executing": true
    }
   },
   "outputs": [],
   "source": [
    "import matplotlib.pyplot as plt\n",
    "import numpy as np"
   ]
  },
  {
   "cell_type": "code",
   "execution_count": null,
   "id": "8f8e7e69",
   "metadata": {
    "pycharm": {
     "is_executing": true
    }
   },
   "outputs": [],
   "source": [
    "x = df.index"
   ]
  },
  {
   "cell_type": "code",
   "execution_count": null,
   "id": "3a025c3d",
   "metadata": {
    "pycharm": {
     "is_executing": true
    }
   },
   "outputs": [],
   "source": [
    "n = len(x)\n",
    "n"
   ]
  },
  {
   "cell_type": "code",
   "execution_count": null,
   "id": "d858ea89",
   "metadata": {
    "pycharm": {
     "is_executing": true
    }
   },
   "outputs": [],
   "source": [
    "y = df['tide']\n",
    "yerr = np.full(n,0.25)\n",
    "yerr"
   ]
  },
  {
   "cell_type": "code",
   "execution_count": null,
   "id": "5e287c20",
   "metadata": {
    "pycharm": {
     "is_executing": true
    }
   },
   "outputs": [],
   "source": [
    "plt.errorbar(x, y, yerr,fmt='o')\n",
    "#plt.plot(x,y)\n",
    "plt.xlabel(\"date index\")\n",
    "plt.ylabel(\"tide\")\n",
    "plt.title(\"tide by time\")\n",
    "plt.show()"
   ]
  },
  {
   "cell_type": "code",
   "execution_count": null,
   "id": "9278936c",
   "metadata": {
    "pycharm": {
     "is_executing": true
    }
   },
   "outputs": [],
   "source": [
    "import numpy as np\n",
    "import matplotlib\n",
    "import matplotlib.pyplot as plt\n",
    "from scipy.optimize import curve_fit\n",
    "def polynomFit(x, *args):\n",
    "    a =args[0]\n",
    "    b =args[1]\n",
    "    c =args[2]\n",
    "    res = a*np.sin(b*x+c)\n",
    "    for order in range(3,len(args)):\n",
    "        res+=args[order] * x**order\n",
    "    return res\n",
    "order = 14\n",
    "plt.figure(figsize=(15,6))\n",
    "plt.errorbar(x, y, yerr,fmt='o',label='data')\n",
    "params, pcov = curve_fit(polynomFit, xdata=x, ydata=y,sigma=yerr ,p0=[0]*(order+1) )\n",
    "fitData=polynomFit(x,*params)\n",
    "plt.plot(x,fitData,label='fit')\n",
    "plt.legend()\n",
    "plt.xlabel(\"date index\")\n",
    "plt.ylabel(\"tide\")\n",
    "plt.title(\"tide change by time\")\n",
    "plt.savefig(\"tide change.pdf\")\n",
    "print(\"params: \",params)\n",
    "print(\"params size:\",len(params))"
   ]
  },
  {
   "cell_type": "code",
   "execution_count": null,
   "id": "8dac457d",
   "metadata": {
    "pycharm": {
     "is_executing": true
    }
   },
   "outputs": [],
   "source": [
    "residuals = fitData - y"
   ]
  },
  {
   "cell_type": "code",
   "execution_count": null,
   "id": "795e1320",
   "metadata": {
    "pycharm": {
     "is_executing": true
    }
   },
   "outputs": [],
   "source": [
    "plt.figure(figsize=(15,6))\n",
    "plt.plot(x,residuals,label='residuals')\n",
    "plt.legend()\n",
    "plt.xlabel(\"date index\")\n",
    "plt.ylabel(\"residuals\")\n",
    "plt.title(\"residuals between real tide and fit_y\")\n",
    "plt.savefig(\"residuals plot.pdf\")\n"
   ]
  },
  {
   "cell_type": "code",
   "execution_count": null,
   "id": "6624c6c7",
   "metadata": {
    "pycharm": {
     "is_executing": true
    }
   },
   "outputs": [],
   "source": [
    "plt.figure(figsize=(10,6))\n",
    "plt.hist(residuals,bins=20)\n",
    "plt.xlabel(\"residuals\")\n",
    "plt.ylabel(\"frequency\")\n",
    "plt.title(\"residuals distribution\")\n",
    "plt.savefig(\"residuals distribution.pdf\")\n",
    "plt.show()"
   ]
  },
  {
   "cell_type": "code",
   "execution_count": null,
   "id": "8f531a83",
   "metadata": {
    "pycharm": {
     "is_executing": true
    }
   },
   "outputs": [],
   "source": [
    "std = residuals.std()\n",
    "print(\"the std of residuals is \",std)\n",
    "mean = residuals.mean()\n",
    "print(\"the mean of residuals is \",mean)\n",
    "median = residuals.median()\n",
    "print(\"the median of residuals is \",median)"
   ]
  },
  {
   "cell_type": "code",
   "execution_count": null,
   "id": "e902ef07",
   "metadata": {
    "pycharm": {
     "is_executing": true
    }
   },
   "outputs": [],
   "source": [
    "std = np.array(fitData).std()\n",
    "std"
   ]
  },
  {
   "cell_type": "code",
   "execution_count": null,
   "id": "458ca538",
   "metadata": {
    "pycharm": {
     "is_executing": true
    }
   },
   "outputs": [],
   "source": [
    "y_np = np.array(y)\n",
    "y_np = np.append(y_np,[2],axis=0)\n",
    "y_np"
   ]
  },
  {
   "cell_type": "code",
   "execution_count": null,
   "id": "84a01cb5",
   "metadata": {
    "pycharm": {
     "is_executing": true
    }
   },
   "outputs": [],
   "source": [
    "plt.figure(figsize=(10,6))\n",
    "plt.hist(y_np,bins=20)\n",
    "plt.xlabel(\"tide\")\n",
    "plt.ylabel(\"frequency\")\n",
    "plt.title(\"tide distribution\")\n",
    "plt.savefig(\"tide distribution.pdf\")\n",
    "plt.show()"
   ]
  },
  {
   "cell_type": "code",
   "execution_count": null,
   "id": "5dfd31e9",
   "metadata": {
    "pycharm": {
     "is_executing": true
    }
   },
   "outputs": [],
   "source": []
  },
  {
   "cell_type": "code",
   "execution_count": null,
   "id": "36f862b3",
   "metadata": {
    "pycharm": {
     "is_executing": true
    }
   },
   "outputs": [],
   "source": []
  }
 ],
 "metadata": {
  "kernelspec": {
   "display_name": "Python 3 (ipykernel)",
   "language": "python",
   "name": "python3"
  },
  "language_info": {
   "codemirror_mode": {
    "name": "ipython",
    "version": 3
   },
   "file_extension": ".py",
   "mimetype": "text/x-python",
   "name": "python",
   "nbconvert_exporter": "python",
   "pygments_lexer": "ipython3",
   "version": "3.9.5"
  }
 },
 "nbformat": 4,
 "nbformat_minor": 5
}