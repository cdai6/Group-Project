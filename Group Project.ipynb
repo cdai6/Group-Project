{
 "cells": [
  {
   "cell_type": "code",
   "execution_count": 1,
   "id": "fb3748d4",
   "metadata": {
    "scrolled": true
   },
   "outputs": [],
   "source": [
    "import matplotlib.pyplot as plt\n",
    "import numpy as np"
   ]
  },
  {
   "cell_type": "code",
   "execution_count": 5,
   "id": "f253a493",
   "metadata": {},
   "outputs": [
    {
     "name": "stdout",
     "output_type": "stream",
     "text": [
      "['', '15:37', '', '16:25', '', '17:14', '10:35', '18:00', '11:28', '18:46', '12:22', '19:31', '13:24', '20:16', '', '21:01', '', '21:46', '', '11:58', '', '12:56', '', '13:45', '', '14:25', '', '15:00', '', '15:34', '', '16:08', '', '16:41', '', '17:12', '10:21', '17:45', '10:57', '18:15', '11:38', '18:48', '12:25', '19:20', '', '19:52', '', '20:30', '', '10:44', '', '11:55', '', '12:57', '', '13:50', '', '14:39', '', '15:27', '', '16:10', '', '16:52', '10:30', '17:34', '11:19', '18:12', '12:10', '18:49', '', '19:24', '', '20:00', '', '', '', '11:15', '', '12:22', '', '13:14']\n",
      "['8:07', '-0.39', '8:55', '-1.74', '9:45', '-1.36', '', '-1.15', '', '-1.61', '', '', '', '', '3:22', '', '4:07', '', '4:50', '', '5:31', '', '6:08', '', '6:47', '', '7:22', '-0.04', '7:59', '-1.12', '8:34', '-0.61', '9:10', '-0.93', '9:45', '-1.29', '', '', '', '', '', '', '', '', '2:22', '', '2:58', '', '3:37', '', '4:23', '', '5:15', '', '6:09', '', '7:05', '', '7:58', '', '8:50', '-1.68', '9:40', '-1.32', '', '-0.73', '', '-0.38', '', '-0.61', '1:32', '-0.46', '2:13', '', '2:54', '9:54', '3:39', '', '4:29', '', '5:21', '']\n"
     ]
    }
   ],
   "source": [
    "inFile=open('C:/Users/KohDamee/Desktop/ASTR19/ASTR19_S22_group_project_data.txt','r')\n",
    "\n",
    "time = []\n",
    "height = []\n",
    "\n",
    "for line in inFile:\n",
    "    if line[0]=='#':\n",
    "        continue\n",
    "    splitLine=line.strip().split(' ')\n",
    "    day = splitLine[0]\n",
    "    time_min = splitLine[1]\n",
    "    height_feet = splitLine[2]\n",
    "    \n",
    "    time.append(time_min)\n",
    "    height.append(height_feet)\n",
    "\n",
    "print(time)\n",
    "print(height)"
   ]
  },
  {
   "cell_type": "code",
   "execution_count": null,
   "id": "bbfb2742",
   "metadata": {},
   "outputs": [],
   "source": []
  }
 ],
 "metadata": {
  "kernelspec": {
   "display_name": "Python 3",
   "language": "python",
   "name": "python3"
  },
  "language_info": {
   "codemirror_mode": {
    "name": "ipython",
    "version": 3
   },
   "file_extension": ".py",
   "mimetype": "text/x-python",
   "name": "python",
   "nbconvert_exporter": "python",
   "pygments_lexer": "ipython3",
   "version": "3.8.8"
  }
 },
 "nbformat": 4,
 "nbformat_minor": 5
}
