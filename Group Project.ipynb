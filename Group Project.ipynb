{
 "cells": [
  {
   "cell_type": "code",
   "execution_count": 30,
   "id": "fb3748d4",
   "metadata": {
    "scrolled": true
   },
   "outputs": [],
   "source": [
    "import matplotlib.pyplot as plt\n",
    "import numpy as np\n",
    "import math\n",
    "from scipy.optimize import curve_fit"
   ]
  },
  {
   "cell_type": "code",
   "execution_count": 56,
   "id": "4495f064",
   "metadata": {},
   "outputs": [
    {
     "name": "stdout",
     "output_type": "stream",
     "text": [
      "[3, 7, 14, 17, 24, 27, 34, 38, 45, 48, 55, 58, 66, 68, 71, 79, 82, 89, 92, 95, 102, 105, 113, 116, 123, 126, 133, 136, 143, 146, 154, 157, 164, 167, 174, 177, 184, 187, 195, 198, 205, 208, 215, 218, 221, 228, 231, 239, 242, 244, 252, 255, 262, 265, 273, 276, 283, 286, 293, 296, 304, 307, 314, 317, 324, 327, 335, 338, 345, 348, 351, 358, 361, 368, 371, 374, 382, 385, 392, 395, 402, 406]\n",
      "[6.57, -0.39, 5.38, -1.74, 5.26, -1.36, 4.13, -1.15, 3.48, -1.61, 2.62, 0.05, 1.83, 1.01, 3.57, 0.73, 4.54, 2.17, 3.76, 2.88, 3.9, 1.92, 4.73, 1.74, 5.66, 0.79, 5.33, -0.04, 5.23, -1.12, 6.67, -0.61, 4.74, -0.93, 4.69, -1.29, 4.2, 0.22, 3.68, 0.26, 2.47, 0.36, 2.59, 0.99, 4.1, 1.87, 3.17, 1.6, 3.71, 3.1, 4.04, 2.49, 4.07, 2.18, 5.93, 0.7, 6.89, 0.21, 6.72, 0.22, 6.77, -1.68, 5.77, -1.32, 4.35, -0.73, 4.23, -0.38, 2.24, -0.61, 3.45, -0.46, 4.13, 1.21, 3.34, 2.58, 3.32, 3.26, 5.21, 2.39, 4.83, 2.41]\n"
     ]
    }
   ],
   "source": [
    "inFile=open('C:/Users/KohDamee/Desktop/ASTR19/ASTR19_S22_group_project_data.txt','r')\n",
    "\n",
    "time = []\n",
    "height = []\n",
    "\n",
    "for line in inFile:\n",
    "    if line[0]=='#':\n",
    "        continue\n",
    "    splitLine=line.strip().split()\n",
    "    day = int(splitLine[0])\n",
    "    time_min = splitLine[1]\n",
    "    t = time_min.split(':')\n",
    "    t1 = int(t[0])\n",
    "    t2 = int(t[1])\n",
    "    tt = (day-1)*24 + t1 +t2/60\n",
    "    height_feet = float(splitLine[2])\n",
    "    \n",
    "    time.append(round(tt/24*10))\n",
    "    height.append(height_feet)\n",
    "\n",
    "print(time)\n",
    "print(height)"
   ]
  },
  {
   "cell_type": "code",
   "execution_count": 66,
   "id": "345fb387",
   "metadata": {},
   "outputs": [
    {
     "name": "stdout",
     "output_type": "stream",
     "text": [
      "[-0.38906306  1.00284492  2.48511338]\n"
     ]
    },
    {
     "data": {
      "text/plain": [
       "[<matplotlib.lines.Line2D at 0x1c550b3d820>]"
      ]
     },
     "execution_count": 66,
     "metadata": {},
     "output_type": "execute_result"
    },
    {
     "data": {
      "image/png": "[encoded data removed]",
      "text/plain": [
       "<Figure size 432x288 with 1 Axes>"
      ]
     },
     "metadata": {
      "needs_background": "light"
     },
     "output_type": "display_data"
    }
   ],
   "source": [
    "def func(x, a, b, c):\n",
    "    return a*np.cos(b*x) + c\n",
    "\n",
    "y = func(time,-0.39,1,2.5)\n",
    "\n",
    "popt, pcov = curve_fit(func, time, height)\n",
    "print(popt)\n",
    "fita = popt[0]\n",
    "fitb = round(popt[1])\n",
    "fitc = popt[2]\n",
    "\n",
    "fit_cosine = func(time, fita, fitb, fitc)\n",
    "\n",
    "plt.plot(time, height, 'o')\n",
    "plt.plot(time, fit_cosine, '-')\n"
   ]
  },
  {
   "cell_type": "code",
   "execution_count": null,
   "id": "1ce73e5a",
   "metadata": {},
   "outputs": [],
   "source": []
  }
 ],
 "metadata": {
  "kernelspec": {
   "display_name": "Python 3",
   "language": "python",
   "name": "python3"
  },
  "language_info": {
   "codemirror_mode": {
    "name": "ipython",
    "version": 3
   },
   "file_extension": ".py",
   "mimetype": "text/x-python",
   "name": "python",
   "nbconvert_exporter": "python",
   "pygments_lexer": "ipython3",
   "version": "3.8.8"
  }
 },
 "nbformat": 4,
 "nbformat_minor": 5
}
